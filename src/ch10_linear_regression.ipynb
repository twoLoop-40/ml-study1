{
 "cells": [
  {
   "cell_type": "code",
   "execution_count": 1,
   "metadata": {},
   "outputs": [],
   "source": [
    "# 선형 회귀 파이썬 1\n",
    "# 임포트 \n",
    "import numpy as np\n",
    "import matplotlib.pyplot as plt\n",
    "import typing as T\n"
   ]
  },
  {
   "cell_type": "code",
   "execution_count": 2,
   "metadata": {},
   "outputs": [],
   "source": [
    "# 초기값 설정\n",
    "w = 0 # 기울기\n",
    "b = 0 # y절편\n",
    "learning_rate = 0.01 # 학습률\n",
    "epochs = 3000 # 학습 횟수\n",
    "\n",
    "# 데이터\n",
    "X = np.array([0.0, 1.0, 2.0])\n",
    "y = np.array([3.0, 3.5, 5.5])\n",
    "\n"
   ]
  },
  {
   "cell_type": "code",
   "execution_count": 3,
   "metadata": {},
   "outputs": [],
   "source": [
    "# improve class\n",
    "\n",
    "class LinearRegressionModel:\n",
    "    def __init__ (self, X, y, transformation_w, transformation_b):\n",
    "        self._transformation_w = transformation_w\n",
    "        self._transformation_b = transformation_b\n",
    "        self._X = X\n",
    "        self._y = y\n",
    "        # print(transformation_w, transformation_b)\n",
    "\n",
    "    def improve_ (self, w, b):\n",
    "        y_pred = w * self._X + b\n",
    "        error = (y_pred - self._y)\n",
    "        dw = self._transformation_w(error=error, X=self._X, y=self._y)\n",
    "        db = self._transformation_b(error=error, X=self._X, y=self._y)\n",
    "        return dw, db\n",
    "    \n",
    "    def train (self, w, b, learning_rate, epochs):\n",
    "        for _ in range(epochs):\n",
    "            dw, db = self.improve_(w, b)\n",
    "            w -= learning_rate * dw\n",
    "            b -= learning_rate * db\n",
    "        \n",
    "        def model(X_new):\n",
    "            return w * X_new + b\n",
    "        \n",
    "        return w, b, model\n",
    "    \n",
    "\n",
    "    \n",
    "\n"
   ]
  },
  {
   "cell_type": "code",
   "execution_count": 4,
   "metadata": {},
   "outputs": [],
   "source": [
    "# 변환 함수\n",
    "def transformation_w(error, X, y):\n",
    "    # 자료의 갯수\n",
    "    n = float(len(X))\n",
    "    dw = (2/n) * sum(X * error)\n",
    "    return dw\n",
    "\n",
    "def transformation_b(error, X, y):\n",
    "    # 자료의 갯수\n",
    "    n = float(len(X))\n",
    "    db = (2/n) * sum(error)\n",
    "    return db\n",
    "\n",
    "ModelFactory = LinearRegressionModel(X, y, transformation_w=transformation_w, transformation_b=transformation_b)"
   ]
  },
  {
   "cell_type": "code",
   "execution_count": 5,
   "metadata": {},
   "outputs": [],
   "source": [
    "# 모델 만들기\n",
    "w, b, model = ModelFactory.train(w, b, learning_rate, epochs)    "
   ]
  },
  {
   "cell_type": "code",
   "execution_count": 7,
   "metadata": {},
   "outputs": [
    {
     "name": "stdout",
     "output_type": "stream",
     "text": [
      "w: 1.25, b: 2.75\n",
      "모델 확인 > X: [10. 20.], y: [15.25000038 27.75000082]\n"
     ]
    },
    {
     "data": {
      "image/png": "[encoded data removed]",
      "text/plain": [
       "<Figure size 640x480 with 1 Axes>"
      ]
     },
     "metadata": {},
     "output_type": "display_data"
    }
   ],
   "source": [
    "# 결과 출력\n",
    "print(f'w: {w:.2f}, b: {b:.2f}')\n",
    "\n",
    "# 예측값 \n",
    "y_pred = model(X)\n",
    "\n",
    "# 모델 확인\n",
    "X_new = np.array([10.0, 20.0])\n",
    "y_new = model(X_new)\n",
    "print(f'모델 확인 > X: {X_new}, y: {y_new}')\n",
    "\n",
    "# 그래프 출력\n",
    "plt.scatter(X, y)\n",
    "plt.plot([min(X), max(X)], [min(y_pred), max(y_pred)], color='red')\n",
    "plt.show()\n"
   ]
  },
  {
   "cell_type": "code",
   "execution_count": null,
   "metadata": {},
   "outputs": [],
   "source": [
    "# 사이킷 런 이용하기\n",
    "import matplotlib.pylab as plb\n",
    "from sklearn.linear_model import LinearRegression\n",
    "\n",
    "# linear regression 모델\n",
    "lin_reg = LinearRegression()\n",
    "\n",
    "# 데이터를 2차원으로 변환\n",
    "X_1 = [[0], [1], [2]] # 2차원으로 변환\n",
    "y_1 = [3, 3.5, 5.5] # y = x + 3\n",
    "\n",
    "# 모델 학습\n",
    "lin_reg.fit(X_1, y_1)\n",
    "\n"
   ]
  },
  {
   "cell_type": "code",
   "execution_count": null,
   "metadata": {},
   "outputs": [],
   "source": [
    "# 출력\n",
    "print(f'w: {lin_reg.coef_[0]:.2f}, b: {lin_reg.intercept_:.2f}')\n",
    "\n",
    "# 예측 테스트 \n",
    "y_pred_1 = lin_reg.predict([[5]]) # x = 5일때 예측값 8 정도\n",
    "print(f'입력: 5, 예측: {y_pred_1[0]:.2f}')\n",
    "\n",
    "# 그래프\n",
    "plb.scatter(X_1, y_1, color='black')\n",
    "\n",
    "# 예측값\n",
    "y_pred_1 = lin_reg.predict(X_1)\n",
    "\n",
    "# 그래프 출력\n",
    "plt.plot(X_1, y_pred_1, color='blue', linewidth=3)\n",
    "plt.show()\n",
    "\n"
   ]
  },
  {
   "cell_type": "code",
   "execution_count": null,
   "metadata": {},
   "outputs": [],
   "source": []
  }
 ],
 "metadata": {
  "kernelspec": {
   "display_name": "ml_study_env",
   "language": "python",
   "name": "python3"
  },
  "language_info": {
   "codemirror_mode": {
    "name": "ipython",
    "version": 3
   },
   "file_extension": ".py",
   "mimetype": "text/x-python",
   "name": "python",
   "nbconvert_exporter": "python",
   "pygments_lexer": "ipython3",
   "version": "3.12.2"
  }
 },
 "nbformat": 4,
 "nbformat_minor": 2
}
